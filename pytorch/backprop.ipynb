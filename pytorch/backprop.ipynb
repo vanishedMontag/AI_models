{
 "cells": [
  {
   "cell_type": "code",
   "execution_count": 36,
   "metadata": {},
   "outputs": [],
   "source": [
    "import numpy as np\n",
    "import torch\n",
    "import torch.nn as nn\n",
    "import torch.nn.functional as F"
   ]
  },
  {
   "cell_type": "markdown",
   "metadata": {},
   "source": [
    "Backprop follows three rules: \n",
    "1) calculate the loss from the inputs (forward pass)\n",
    "2) calculate the gradients at each node\n",
    "3) calculate the gradients of the loss with respect to the inputs witht the chain rule(backward pass)"
   ]
  },
  {
   "cell_type": "code",
   "execution_count": 31,
   "metadata": {},
   "outputs": [],
   "source": [
    "# The simplest of all examples\n",
    "\n",
    "x = torch.tensor(1.0,requires_grad=True) # inputs\n",
    "y = torch.tensor(2.0,requires_grad=True) # outputs\n",
    "w = torch.tensor(1.0,requires_grad=True) # weights\n",
    "\n",
    "x.grad_zero = True\n",
    "y.grad_zero = True\n",
    "w.grad_zero = True"
   ]
  },
  {
   "cell_type": "code",
   "execution_count": 32,
   "metadata": {},
   "outputs": [
    {
     "data": {
      "text/plain": [
       "tensor(-2.)"
      ]
     },
     "execution_count": 32,
     "metadata": {},
     "output_type": "execute_result"
    }
   ],
   "source": [
    "# forward pass: \n",
    "\n",
    "yhat = x * w\n",
    "loss = (y - yhat)**2\n",
    "\n",
    "# backward pass:\n",
    "\n",
    "loss.backward()\n",
    "w.grad"
   ]
  },
  {
   "cell_type": "code",
   "execution_count": 35,
   "metadata": {},
   "outputs": [
    {
     "name": "stdout",
     "output_type": "stream",
     "text": [
      "tensor([[ 73.,  67.,  43.],\n",
      "        [ 91.,  88.,  64.],\n",
      "        [ 87., 134.,  58.],\n",
      "        [102.,  43.,  37.],\n",
      "        [ 69.,  96.,  70.]])\n",
      "tensor([[ 56.,  70.],\n",
      "        [ 81., 101.],\n",
      "        [119., 133.],\n",
      "        [ 22.,  37.],\n",
      "        [103., 119.]])\n"
     ]
    }
   ],
   "source": [
    "# Input (temp, rainfall, humidity)\n",
    "inputs = np.array([[73, 67, 43], \n",
    "                   [91, 88, 64], \n",
    "                   [87, 134, 58], \n",
    "                   [102, 43, 37], \n",
    "                   [69, 96, 70]], dtype='float32')\n",
    "\n",
    "\n",
    "# Targets (apples, oranges)\n",
    "targets = np.array([[56, 70], \n",
    "                    [81, 101], \n",
    "                    [119, 133], \n",
    "                    [22, 37], \n",
    "                    [103, 119]], dtype='float32')\n",
    "\n",
    "\n",
    "# Convert inputs and targets to tensors\n",
    "inputs = torch.from_numpy(inputs)\n",
    "targets = torch.from_numpy(targets)\n",
    "print(inputs)\n",
    "print(targets)\n",
    "\n"
   ]
  },
  {
   "cell_type": "markdown",
   "metadata": {},
   "source": [
    "The general equation for linear regression is $y = m \\times x + b$ which will be the follwing in vector notation:\n",
    "\n",
    "$$\\hspace{1.5cm} X \\hspace{1.1cm} \\times \\hspace{0.9cm} W^T \\hspace{0.8cm}  + \\hspace{1cm} b \\hspace{1cm}$$\n",
    "$$\\left[ \\begin{array}{cc}\n",
    "73 & 67 & 43 \\\\\n",
    "91 & 88 & 64 \\\\\n",
    "\\vdots & \\vdots & \\vdots \\\\\n",
    "69 & 96 & 70\n",
    "\\end{array} \\right]\n",
    "%\n",
    "\\times\n",
    "%\n",
    "\\left[ \\begin{array}{cc}\n",
    "w_{11} & w_{21} \\\\\n",
    "w_{12} & w_{22} \\\\\n",
    "w_{13} & w_{23}\n",
    "\\end{array} \\right]\n",
    "%\n",
    "+\n",
    "%\n",
    "\\left[ \\begin{array}{cc}\n",
    "b_{1} & b_{2} \\\\\n",
    "b_{1} & b_{2} \\\\\n",
    "\\vdots & \\vdots \\\\\n",
    "b_{1} & b_{2} \\\\\n",
    "\\end{array} \\right]$$"
   ]
  },
  {
   "cell_type": "code",
   "execution_count": 77,
   "metadata": {},
   "outputs": [
    {
     "name": "stdout",
     "output_type": "stream",
     "text": [
      "tensor([[ 57.3252,  70.3803],\n",
      "        [ 82.0602, 100.5875],\n",
      "        [118.6694, 132.9487],\n",
      "        [ 21.0798,  37.0214],\n",
      "        [101.9770, 119.1747]]) tensor(2., requires_grad=True)\n"
     ]
    }
   ],
   "source": [
    "# simple regession from scratch\n",
    "\n",
    "w = torch.rand(2,3)\n",
    "b = torch.rand(5,2)\n",
    "\n",
    "def linreg(x):\n",
    "    return x @ w.T + b\n",
    "\n",
    "\n",
    "# # forward pass, calculates the difference between the targets and the calculated model values yhat\n",
    "# yhat = linreg(inputs)\n",
    "# loss = (yhat - targets)**2\n",
    "\n",
    "# loss\n",
    "\n",
    "# # calculate gradients from scratch with chain rule\n",
    "\n",
    "# # derivatives of the linear model\n",
    "# dydw = x\n",
    "# dydb = 1\n",
    "\n",
    "# # derivative of the loss fuction for the weights and the intercept aka the gradients\n",
    "\n",
    "# dlossdw = 2*(yhat - targets).T @ inputs\n",
    "# dlossdb = 2*(yhat - targets).T @ torch.ones(5,3)\n",
    "\n",
    "\n",
    "## training loop: \n",
    "epochs = 25000\n",
    "lr = 0.00001\n",
    "\n",
    "for i in range(epochs):\n",
    "    # forward pass, calculates the difference between the targets and the calculated model values yhat\n",
    "    yhat = linreg(inputs)\n",
    "    loss = (yhat - targets)**2\n",
    "\n",
    "    # calculate gradients from scratch with chain rule\n",
    "    # derivatives of the linear model\n",
    "    dydw = x\n",
    "    dydb = 1\n",
    "\n",
    "    # derivative of the loss fuction for the weights and the intercept aka the gradients\n",
    "\n",
    "    dlossdw = 2*(yhat - targets).T @ inputs\n",
    "    dlossdb = 2*(yhat - targets).T @ torch.ones(5,5)\n",
    "\n",
    "    # update weights and intercept \n",
    "    w -= lr * dlossdw \n",
    "    b -= lr * dlossdb.T\n",
    "\n",
    "\n",
    "print(yhat,y)"
   ]
  },
  {
   "cell_type": "code",
   "execution_count": 79,
   "metadata": {},
   "outputs": [
    {
     "name": "stdout",
     "output_type": "stream",
     "text": [
      "torch.Size([15, 3]) torch.Size([15, 2])\n"
     ]
    }
   ],
   "source": [
    "# lets use more data\n",
    "\n",
    "# Input (temp, rainfall, humidity)\n",
    "inputs = np.array([[73, 67, 43], [91, 88, 64], [87, 134, 58], [102, 43, 37], [69, 96, 70], [73, 67, 43], [91, 88, 64], [87, 134, 58], [102, 43, 37], [69, 96, 70], [73, 67, 43], [91, 88, 64], [87, 134, 58], [102, 43, 37], [69, 96, 70]], dtype='float32')\n",
    "# Targets (apples, oranges)\n",
    "targets = np.array([[56, 70], [81, 101], [119, 133], [22, 37], [103, 119], \n",
    "                    [56, 70], [81, 101], [119, 133], [22, 37], [103, 119], \n",
    "                    [56, 70], [81, 101], [119, 133], [22, 37], [103, 119]], dtype='float32')\n",
    "\n",
    "inputs = torch.from_numpy(inputs)\n",
    "targets = torch.from_numpy(targets)\n",
    "\n",
    "print(inputs.shape, targets.shape)"
   ]
  },
  {
   "cell_type": "code",
   "execution_count": 96,
   "metadata": {},
   "outputs": [
    {
     "name": "stdout",
     "output_type": "stream",
     "text": [
      "tensor([[ 57.3906,  69.9340],\n",
      "        [ 82.3561, 100.9502],\n",
      "        [118.6994, 132.6333],\n",
      "        [ 21.3155,  36.8726],\n",
      "        [102.1955, 119.3424],\n",
      "        [ 56.7626,  70.5834],\n",
      "        [ 81.6821, 100.2627],\n",
      "        [118.7080, 133.1086],\n",
      "        [ 20.7266,  36.9454],\n",
      "        [101.7264, 119.4273],\n",
      "        [ 57.3634,  70.1312],\n",
      "        [ 82.1432, 100.6637],\n",
      "        [118.6931, 133.1965],\n",
      "        [ 21.3693,  37.3857],\n",
      "        [102.1225, 118.8021]]) tensor([[ 56.,  70.],\n",
      "        [ 81., 101.],\n",
      "        [119., 133.],\n",
      "        [ 22.,  37.],\n",
      "        [103., 119.],\n",
      "        [ 56.,  70.],\n",
      "        [ 81., 101.],\n",
      "        [119., 133.],\n",
      "        [ 22.,  37.],\n",
      "        [103., 119.],\n",
      "        [ 56.,  70.],\n",
      "        [ 81., 101.],\n",
      "        [119., 133.],\n",
      "        [ 22.,  37.],\n",
      "        [103., 119.]])\n"
     ]
    }
   ],
   "source": [
    "# simple regession from scratch\n",
    "\n",
    "w = torch.rand(2,3)\n",
    "b = torch.rand(15,2)\n",
    "\n",
    "def linreg(x):\n",
    "    return x @ w.T + b\n",
    "\n",
    "\n",
    "## training loop: \n",
    "epochs = 10000\n",
    "lr = 0.000001\n",
    "\n",
    "for i in range(epochs):\n",
    "    # forward pass, calculates the difference between the targets and the calculated model values yhat\n",
    "    yhat = linreg(inputs)\n",
    "    loss = (yhat - targets)**2\n",
    "\n",
    "    # calculate gradients from scratch with chain rule\n",
    "    # derivatives of the linear model\n",
    "    dydw = x\n",
    "    dydb = 1\n",
    "\n",
    "    # derivative of the loss fuction for the weights and the intercept aka the gradients\n",
    "\n",
    "    dlossdw = 2*(yhat - targets).T @ inputs\n",
    "    dlossdb = 2*(yhat - targets).T @ torch.ones(15,15)\n",
    "\n",
    "    # update weights and intercept \n",
    "    w -= lr * dlossdw \n",
    "    b -= lr * dlossdb.T\n",
    "\n",
    "\n",
    "print(yhat, targets)"
   ]
  },
  {
   "cell_type": "code",
   "execution_count": null,
   "metadata": {},
   "outputs": [],
   "source": [
    "class ModelRegression(nn.Module):\n",
    "    def __init__(self):\n",
    "        super(ModelRegression, self).__init__()\n",
    "        "
   ]
  }
 ],
 "metadata": {
  "kernelspec": {
   "display_name": "Python 3.10.0 64-bit ('AI_Lab')",
   "language": "python",
   "name": "python3"
  },
  "language_info": {
   "codemirror_mode": {
    "name": "ipython",
    "version": 3
   },
   "file_extension": ".py",
   "mimetype": "text/x-python",
   "name": "python",
   "nbconvert_exporter": "python",
   "pygments_lexer": "ipython3",
   "version": "3.10.0"
  },
  "orig_nbformat": 4,
  "vscode": {
   "interpreter": {
    "hash": "38f3d14fe18daaf48a7acb4f925e655122b914ef7e792f38853c14d2a42aac38"
   }
  }
 },
 "nbformat": 4,
 "nbformat_minor": 2
}
