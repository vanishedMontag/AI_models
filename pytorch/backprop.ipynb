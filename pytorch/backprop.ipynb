{
 "cells": [
  {
   "cell_type": "code",
   "execution_count": 65,
   "metadata": {},
   "outputs": [],
   "source": [
    "import numpy as np\n",
    "import torch\n",
    "import torch.nn as nn\n",
    "import torch.nn.functional as F\n",
    "import torch.optim as optim\n",
    "import numpy as np\n",
    "import matplotlib.pyplot as plt\n",
    "from torchvision import models,transforms\n",
    "from torchvision.utils import make_grid\n",
    "from torchvision.datasets import MNIST\n",
    "from torchsummary import summary\n",
    "\n",
    "import matplotlib.pyplot as plt"
   ]
  },
  {
   "cell_type": "markdown",
   "metadata": {},
   "source": [
    "Backprop follows three rules: \n",
    "1) calculate the loss from the inputs (forward pass)\n",
    "2) calculate the gradients at each node\n",
    "3) calculate the gradients of the loss with respect to the inputs witht the chain rule(backward pass)"
   ]
  },
  {
   "cell_type": "code",
   "execution_count": 3,
   "metadata": {},
   "outputs": [],
   "source": [
    "# The simplest of all examples\n",
    "\n",
    "x = torch.tensor(1.0,requires_grad=True) # inputs\n",
    "y = torch.tensor(2.0,requires_grad=True) # outputs\n",
    "w = torch.tensor(1.0,requires_grad=True) # weights\n",
    "\n",
    "x.grad_zero = True\n",
    "y.grad_zero = True\n",
    "w.grad_zero = True"
   ]
  },
  {
   "cell_type": "code",
   "execution_count": 4,
   "metadata": {},
   "outputs": [
    {
     "data": {
      "text/plain": [
       "tensor(-2.)"
      ]
     },
     "execution_count": 4,
     "metadata": {},
     "output_type": "execute_result"
    }
   ],
   "source": [
    "# forward pass: \n",
    "\n",
    "yhat = x * w\n",
    "loss = (y - yhat)**2\n",
    "\n",
    "# backward pass:\n",
    "\n",
    "loss.backward()\n",
    "w.grad"
   ]
  },
  {
   "cell_type": "code",
   "execution_count": 5,
   "metadata": {},
   "outputs": [
    {
     "name": "stdout",
     "output_type": "stream",
     "text": [
      "tensor([[ 73.,  67.,  43.],\n",
      "        [ 91.,  88.,  64.],\n",
      "        [ 87., 134.,  58.],\n",
      "        [102.,  43.,  37.],\n",
      "        [ 69.,  96.,  70.]])\n",
      "tensor([[ 56.,  70.],\n",
      "        [ 81., 101.],\n",
      "        [119., 133.],\n",
      "        [ 22.,  37.],\n",
      "        [103., 119.]])\n"
     ]
    }
   ],
   "source": [
    "# Input (temp, rainfall, humidity)\n",
    "inputs = np.array([[73, 67, 43], \n",
    "                   [91, 88, 64], \n",
    "                   [87, 134, 58], \n",
    "                   [102, 43, 37], \n",
    "                   [69, 96, 70]], dtype='float32')\n",
    "\n",
    "\n",
    "# Targets (apples, oranges)\n",
    "targets = np.array([[56, 70], \n",
    "                    [81, 101], \n",
    "                    [119, 133], \n",
    "                    [22, 37], \n",
    "                    [103, 119]], dtype='float32')\n",
    "\n",
    "\n",
    "# Convert inputs and targets to tensors\n",
    "inputs = torch.from_numpy(inputs)\n",
    "targets = torch.from_numpy(targets)\n",
    "print(inputs)\n",
    "print(targets)\n",
    "\n"
   ]
  },
  {
   "cell_type": "markdown",
   "metadata": {},
   "source": [
    "The general equation for linear regression is $y = m \\times x + b$ which will be the follwing in vector notation:\n",
    "\n",
    "$$\\hspace{1.5cm} X \\hspace{1.1cm} \\times \\hspace{0.9cm} W^T \\hspace{0.8cm}  + \\hspace{1cm} b \\hspace{1cm}$$\n",
    "$$\\left[ \\begin{array}{cc}\n",
    "73 & 67 & 43 \\\\\n",
    "91 & 88 & 64 \\\\\n",
    "\\vdots & \\vdots & \\vdots \\\\\n",
    "69 & 96 & 70\n",
    "\\end{array} \\right]\n",
    "%\n",
    "\\times\n",
    "%\n",
    "\\left[ \\begin{array}{cc}\n",
    "w_{11} & w_{21} \\\\\n",
    "w_{12} & w_{22} \\\\\n",
    "w_{13} & w_{23}\n",
    "\\end{array} \\right]\n",
    "%\n",
    "+\n",
    "%\n",
    "\\left[ \\begin{array}{cc}\n",
    "b_{1} & b_{2} \\\\\n",
    "b_{1} & b_{2} \\\\\n",
    "\\vdots & \\vdots \\\\\n",
    "b_{1} & b_{2} \\\\\n",
    "\\end{array} \\right]$$"
   ]
  },
  {
   "cell_type": "code",
   "execution_count": 13,
   "metadata": {},
   "outputs": [
    {
     "ename": "RuntimeError",
     "evalue": "The size of tensor a (15) must match the size of tensor b (5) at non-singleton dimension 0",
     "output_type": "error",
     "traceback": [
      "\u001b[0;31m---------------------------------------------------------------------------\u001b[0m",
      "\u001b[0;31mRuntimeError\u001b[0m                              Traceback (most recent call last)",
      "Cell \u001b[0;32mIn [13], line 34\u001b[0m\n\u001b[1;32m     30\u001b[0m lr \u001b[39m=\u001b[39m \u001b[39m0.00001\u001b[39m\n\u001b[1;32m     32\u001b[0m \u001b[39mfor\u001b[39;00m i \u001b[39min\u001b[39;00m \u001b[39mrange\u001b[39m(epochs):\n\u001b[1;32m     33\u001b[0m     \u001b[39m# forward pass, calculates the difference between the targets and the calculated model values yhat\u001b[39;00m\n\u001b[0;32m---> 34\u001b[0m     yhat \u001b[39m=\u001b[39m linreg(inputs)\n\u001b[1;32m     35\u001b[0m     loss \u001b[39m=\u001b[39m (yhat \u001b[39m-\u001b[39m targets)\u001b[39m*\u001b[39m\u001b[39m*\u001b[39m\u001b[39m2\u001b[39m\n\u001b[1;32m     37\u001b[0m     \u001b[39m# calculate gradients from scratch with chain rule\u001b[39;00m\n\u001b[1;32m     38\u001b[0m     \u001b[39m# derivatives of the linear model\u001b[39;00m\n",
      "Cell \u001b[0;32mIn [13], line 7\u001b[0m, in \u001b[0;36mlinreg\u001b[0;34m(x)\u001b[0m\n\u001b[1;32m      6\u001b[0m \u001b[39mdef\u001b[39;00m \u001b[39mlinreg\u001b[39m(x):\n\u001b[0;32m----> 7\u001b[0m     \u001b[39mreturn\u001b[39;00m x \u001b[39m@\u001b[39;49m w\u001b[39m.\u001b[39;49mT \u001b[39m+\u001b[39;49m b\n",
      "\u001b[0;31mRuntimeError\u001b[0m: The size of tensor a (15) must match the size of tensor b (5) at non-singleton dimension 0"
     ]
    }
   ],
   "source": [
    "# simple regession from scratch\n",
    "\n",
    "w = torch.rand(2,3)\n",
    "b = torch.rand(5,2)\n",
    "\n",
    "def linreg(x):\n",
    "    return x @ w.T + b\n",
    "\n",
    "\n",
    "# # forward pass, calculates the difference between the targets and the calculated model values yhat\n",
    "# yhat = linreg(inputs)\n",
    "# loss = (yhat - targets)**2\n",
    "\n",
    "# loss\n",
    "\n",
    "# # calculate gradients from scratch with chain rule\n",
    "\n",
    "# # derivatives of the linear model\n",
    "# dydw = x\n",
    "# dydb = 1\n",
    "\n",
    "# # derivative of the loss fuction for the weights and the intercept aka the gradients\n",
    "\n",
    "# dlossdw = 2*(yhat - targets).T @ inputs\n",
    "# dlossdb = 2*(yhat - targets).T @ torch.ones(5,3)\n",
    "\n",
    "\n",
    "## training loop: \n",
    "epochs = 25000\n",
    "lr = 0.00001\n",
    "\n",
    "for i in range(epochs):\n",
    "    # forward pass, calculates the difference between the targets and the calculated model values yhat\n",
    "    yhat = linreg(inputs)\n",
    "    loss = (yhat - targets)**2\n",
    "\n",
    "    # calculate gradients from scratch with chain rule\n",
    "    # derivatives of the linear model\n",
    "    dydw = x\n",
    "    dydb = 1\n",
    "\n",
    "    # derivative of the loss fuction for the weights and the intercept aka the gradients\n",
    "\n",
    "    dlossdw = 2*(yhat - targets).T @ inputs\n",
    "    dlossdb = 2*(yhat - targets).T @ torch.ones(5,5)\n",
    "\n",
    "    # update weights and intercept \n",
    "    w -= lr * dlossdw \n",
    "    b -= lr * dlossdb.T\n",
    "\n",
    "\n",
    "print(w,b)"
   ]
  },
  {
   "cell_type": "code",
   "execution_count": 14,
   "metadata": {},
   "outputs": [
    {
     "name": "stdout",
     "output_type": "stream",
     "text": [
      "torch.Size([15, 3]) torch.Size([15, 2])\n"
     ]
    }
   ],
   "source": [
    "# lets use more data\n",
    "\n",
    "# Input (temp, rainfall, humidity)\n",
    "inputs = np.array([[73, 67, 43], [91, 88, 64], [87, 134, 58], [102, 43, 37], [69, 96, 70], [73, 67, 43], [91, 88, 64], [87, 134, 58], [102, 43, 37], [69, 96, 70], [73, 67, 43], [91, 88, 64], [87, 134, 58], [102, 43, 37], [69, 96, 70]], dtype='float32')\n",
    "# Targets (apples, oranges)\n",
    "targets = np.array([[56, 70], [81, 101], [119, 133], [22, 37], [103, 119], \n",
    "                    [56, 70], [81, 101], [119, 133], [22, 37], [103, 119], \n",
    "                    [56, 70], [81, 101], [119, 133], [22, 37], [103, 119]], dtype='float32')\n",
    "\n",
    "inputs = torch.from_numpy(inputs)\n",
    "targets = torch.from_numpy(targets)\n",
    "\n",
    "print(inputs.shape, targets.shape)"
   ]
  },
  {
   "cell_type": "code",
   "execution_count": 69,
   "metadata": {},
   "outputs": [
    {
     "name": "stdout",
     "output_type": "stream",
     "text": [
      "tensor([[-0.4058,  0.8482,  0.6827],\n",
      "        [-0.3088,  0.7945,  0.9049]]) tensor([0.7310, 0.8501])\n",
      "The perfect solution for the linear equation system is: [-0.4002, -0.3023, 0.848, 0.7944, 0.6875, 0.9105] for the weights. The solution found through gradient descent is therefore good.\n"
     ]
    }
   ],
   "source": [
    "# simple regession from scratch without backprop:\n",
    "\n",
    "w = torch.rand(2,3)\n",
    "b = torch.rand(2)\n",
    "\n",
    "def linreg(x):\n",
    "    return x @ w.T + b\n",
    "\n",
    "\n",
    "\n",
    "## training loop: \n",
    "epochs = 20000\n",
    "lr = 0.000001\n",
    "\n",
    "for i in range(epochs):\n",
    "    # forward pass, calculates the difference between the targets and the calculated model values yhat\n",
    "    yhat = linreg(inputs)\n",
    "    loss = (yhat - targets)**2\n",
    "\n",
    "    # calculate gradients from scratch with chain rule\n",
    "    # derivatives of the linear model\n",
    "    dydw = x\n",
    "    dydb = 1\n",
    "\n",
    "    # derivative of the loss fuction for the weights and the intercept aka the gradients\n",
    "\n",
    "    dlossdw = 2*(yhat - targets).T @ inputs\n",
    "    dlossdb = 2*(yhat - targets).T @ torch.ones(15,)\n",
    "\n",
    "    # update weights and intercept \n",
    "    w -= lr * dlossdw \n",
    "    b -= lr * dlossdb.T\n",
    "\n",
    "\n",
    "print(w, b)\n",
    " \n",
    "perf_sol = (torch.linalg.inv(inputs.T @ inputs) @ inputs.T @ targets).flatten().tolist() # (Normal Equation)\n",
    "print(f'The perfect solution for the linear equation system is: {[round(x,4) for x in perf_sol]} for the weights. The solution found through gradient descent is therefore good.')\n",
    "\n",
    "# plt.plot(steps, losses)"
   ]
  },
  {
   "cell_type": "code",
   "execution_count": null,
   "metadata": {},
   "outputs": [],
   "source": []
  },
  {
   "cell_type": "markdown",
   "metadata": {},
   "source": [
    "While this works it is tidious and not a good system for larger and more complex networks. Therefore we will use the same system as before and use backprop."
   ]
  },
  {
   "cell_type": "code",
   "execution_count": 43,
   "metadata": {},
   "outputs": [
    {
     "name": "stdout",
     "output_type": "stream",
     "text": [
      "torch.Size([15, 3]) torch.Size([15, 2])\n"
     ]
    }
   ],
   "source": [
    "# Data\n",
    "# Input (temp, rainfall, humidity)\n",
    "inputs = np.array([[73, 67, 43], [91, 88, 64], [87, 134, 58], [102, 43, 37], [69, 96, 70], [73, 67, 43], [91, 88, 64], [87, 134, 58], [102, 43, 37], [69, 96, 70], [73, 67, 43], [91, 88, 64], [87, 134, 58], [102, 43, 37], [69, 96, 70]], dtype='float32')\n",
    "# Targets (apples, oranges)\n",
    "targets = np.array([[56, 70], [81, 101], [119, 133], [22, 37], [103, 119], \n",
    "                    [56, 70], [81, 101], [119, 133], [22, 37], [103, 119], \n",
    "                    [56, 70], [81, 101], [119, 133], [22, 37], [103, 119]], dtype='float32')\n",
    "\n",
    "inputs = torch.from_numpy(inputs)\n",
    "targets = torch.from_numpy(targets)\n",
    "\n",
    "print(inputs.shape, targets.shape)"
   ]
  },
  {
   "cell_type": "code",
   "execution_count": 88,
   "metadata": {},
   "outputs": [
    {
     "name": "stdout",
     "output_type": "stream",
     "text": [
      "The perfect solution for the linear equation system is: [-0.4002, -0.3023, 0.848, 0.7944, 0.6875, 0.9105] for the weights. The solution found through gradient descent is [[-0.37811652  0.8840496   0.59595454]\n",
      " [-0.28420344  0.82392687  0.8354083 ]].\n"
     ]
    }
   ],
   "source": [
    "# weights and intercepts require gradient information so we have to tell pytorch to track it\n",
    "# simple regession from scratch without backprop:\n",
    "\n",
    "w = torch.rand(2,3, requires_grad=True)\n",
    "b = torch.zeros(2, requires_grad=True)\n",
    "\n",
    "def linreg(x):\n",
    "    return x @ w.T + b\n",
    "\n",
    "\n",
    "## training loop: \n",
    "epochs = 500\n",
    "lr = 0.000001\n",
    "steps = []\n",
    "losses = []\n",
    "\n",
    "for i in range(epochs):\n",
    "    # forward pass, calculates the difference between the targets and the calculated model values yhat\n",
    "    yhat = linreg(inputs)\n",
    "    loss = torch.sum((yhat - targets)**2)\n",
    "\n",
    "    losses.append(loss.detach().numpy()) # required to plot\n",
    "    steps.append(i)\n",
    "\n",
    "    # backward pass, calculates the gradients of the model with respect to the loss\n",
    "    loss.backward()\n",
    "    \n",
    "    # update weights and intercept \n",
    "    with torch.no_grad(): # required because otherwise the gradients are constantly added \n",
    "        w -= w.grad * lr\n",
    "        b -= b.grad * lr\n",
    "        w.grad.zero_()\n",
    "        b.grad.zero_()\n",
    "\n",
    " \n",
    "perf_sol = (torch.linalg.inv(inputs.T @ inputs) @ inputs.T @ targets).flatten().tolist() # (Normal Equation)\n",
    "print(f'The perfect solution for the linear equation system is: {[round(x,4) for x in perf_sol]} for the weights. The solution found through gradient descent is {w.detach().numpy()}.')\n",
    "\n"
   ]
  },
  {
   "cell_type": "code",
   "execution_count": 89,
   "metadata": {},
   "outputs": [
    {
     "data": {
      "text/plain": [
       "[<matplotlib.lines.Line2D at 0x1322d1210>]"
      ]
     },
     "execution_count": 89,
     "metadata": {},
     "output_type": "execute_result"
    },
    {
     "data": {
      "image/png": "[encoded data removed]",
      "text/plain": [
       "<Figure size 640x480 with 1 Axes>"
      ]
     },
     "metadata": {},
     "output_type": "display_data"
    }
   ],
   "source": [
    "plt.plot(steps, losses)"
   ]
  },
  {
   "cell_type": "code",
   "execution_count": 51,
   "metadata": {},
   "outputs": [
    {
     "data": {
      "text/plain": [
       "59604644775390625"
      ]
     },
     "execution_count": 51,
     "metadata": {},
     "output_type": "execute_result"
    }
   ],
   "source": [
    "5**24"
   ]
  },
  {
   "cell_type": "code",
   "execution_count": null,
   "metadata": {},
   "outputs": [],
   "source": []
  }
 ],
 "metadata": {
  "kernelspec": {
   "display_name": "Python 3.10.0 64-bit ('AI_Lab')",
   "language": "python",
   "name": "python3"
  },
  "language_info": {
   "codemirror_mode": {
    "name": "ipython",
    "version": 3
   },
   "file_extension": ".py",
   "mimetype": "text/x-python",
   "name": "python",
   "nbconvert_exporter": "python",
   "pygments_lexer": "ipython3",
   "version": "3.10.0"
  },
  "orig_nbformat": 4,
  "vscode": {
   "interpreter": {
    "hash": "38f3d14fe18daaf48a7acb4f925e655122b914ef7e792f38853c14d2a42aac38"
   }
  }
 },
 "nbformat": 4,
 "nbformat_minor": 2
}
