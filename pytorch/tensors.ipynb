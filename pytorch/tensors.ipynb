{
 "cells": [
  {
   "cell_type": "code",
   "execution_count": 1,
   "metadata": {},
   "outputs": [],
   "source": [
    "import numpy as np\n",
    "import torch"
   ]
  },
  {
   "cell_type": "markdown",
   "metadata": {},
   "source": [
    "### Basics of torch tensors \n",
    "The following block contain the things I think are most necessary for understanding pytorch. This will be updated on a running basis."
   ]
  },
  {
   "cell_type": "code",
   "execution_count": null,
   "metadata": {},
   "outputs": [],
   "source": [
    "# Basic operations in pyTorch\n",
    "## Empty tensors for multiple dimensions\n",
    "\n",
    "empty_tensor1D = torch.empty(1,1) # one value\n",
    "print(empty_tensor1D, empty_tensor1D.shape)\n",
    "\n",
    "empty_tensor2D = torch.empty(2,2) # 2 x 2 matrix\n",
    "print(empty_tensor2D, empty_tensor2D.shape)\n",
    "\n",
    "empty_tensor3D = torch.empty(3,3,3)  \n",
    "print(empty_tensor3D, empty_tensor3D.shape)\n",
    "\n",
    "empty_tensor4D = torch.empty(4,4,4,4) # becomes very difficult to meaningfully visualise in 2D\n",
    "print(empty_tensor4D, empty_tensor4D.shape) \n"
   ]
  },
  {
   "cell_type": "code",
   "execution_count": null,
   "metadata": {},
   "outputs": [],
   "source": [
    "## Understanding higher dimensional tensors\n",
    "\n",
    "### Indexing in 2D\n",
    "tensor = torch.rand(2,2)\n",
    "print(tensor)\n",
    "\n",
    "print(tensor[0][0]) # returns the value at position 0, 0\n",
    "print(tensor[1][0]) # returns the value at position 1, 0\n",
    "print(tensor[0][1]) # returns the value at position 0, 1\n",
    "print(tensor[1][1]) # returns the value at position 1, 1\n",
    "\n",
    "\n",
    "# Indexing in 3D - infD:\n",
    "\n",
    "tensor = torch.rand(3,2,2) # three , two by two matricies\n",
    "print(tensor)\n",
    "\n",
    "print(tensor[0]) # prints the first matrix of the tensor\n",
    "print(tensor[0][0]) # prints the first row of the first matrix\n",
    "\n",
    "# these principals hold for all future expansions of dimensions"
   ]
  },
  {
   "cell_type": "code",
   "execution_count": null,
   "metadata": {},
   "outputs": [],
   "source": [
    "## General other commands:\n",
    "\n",
    "torch.ones(2,2) # creates tensor of ones\n",
    "torch.zeros(2,2) # creates tensor of ones\n",
    "torch.rand(2,2) # creates tensor of ones"
   ]
  }
 ],
 "metadata": {
  "kernelspec": {
   "display_name": "Python 3.10.0 64-bit ('AI_Lab')",
   "language": "python",
   "name": "python3"
  },
  "language_info": {
   "codemirror_mode": {
    "name": "ipython",
    "version": 3
   },
   "file_extension": ".py",
   "mimetype": "text/x-python",
   "name": "python",
   "nbconvert_exporter": "python",
   "pygments_lexer": "ipython3",
   "version": "3.10.0"
  },
  "orig_nbformat": 4,
  "vscode": {
   "interpreter": {
    "hash": "38f3d14fe18daaf48a7acb4f925e655122b914ef7e792f38853c14d2a42aac38"
   }
  }
 },
 "nbformat": 4,
 "nbformat_minor": 2
}
